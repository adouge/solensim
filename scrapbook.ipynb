{
 "cells": [
  {
   "cell_type": "code",
   "execution_count": 77,
   "metadata": {},
   "outputs": [],
   "source": [
    "forget()\n",
    "pp,pm = var(\"pp,pm\")\n",
    "z02 = var(\"z02\")\n",
    "assume(pp>0)\n",
    "assume(pm>0)\n",
    "assume(z02>0)"
   ]
  },
  {
   "cell_type": "code",
   "execution_count": 78,
   "metadata": {},
   "outputs": [],
   "source": [
    "ober = (pp/pp**(3/2) + pm/pm**(3/2))\n",
    "\n",
    "unter = (pp/(z02+pp)**(3/2) + pm/(z02+pm)**(3/2))"
   ]
  },
  {
   "cell_type": "code",
   "execution_count": 79,
   "metadata": {},
   "outputs": [
    {
     "data": {
      "text/plain": [
       "[]"
      ]
     },
     "execution_count": 79,
     "metadata": {},
     "output_type": "execute_result"
    }
   ],
   "source": [
    "#assume(sqrt(z02+pp)*(sqrt(pp)*(z02+pp)+sqrt(pm)*(z02+pp))-2*sqrt(pm)*pp^(3/2)>0)\n",
    "\n",
    "solve([ober/unter==2],z02,solution_dict=True)"
   ]
  },
  {
   "cell_type": "code",
   "execution_count": 81,
   "metadata": {},
   "outputs": [
    {
     "data": {
      "text/plain": [
       "(1/sqrt(a) + 1/sqrt(b))/(a/(a + x)^(3/2) + b/(b + x)^(3/2)) == 2"
      ]
     },
     "execution_count": 81,
     "metadata": {},
     "output_type": "execute_result"
    }
   ],
   "source": [
    "a,b,x = var(\"a,b,x\")\n",
    "assume(a>0,b>0,x>0)\n",
    "(a/a^(3/2) + b/b^(3/2))/(a/(x+a)^(3/2) + b/(x+b)^(3/2)) == 2"
   ]
  },
  {
   "cell_type": "code",
   "execution_count": 82,
   "metadata": {},
   "outputs": [],
   "source": [
    "eq = [(1/sqrt(a) + 1/sqrt(b))/(a/(a + x)^(3/2) + b/(b + x)^(3/2)) == 2]"
   ]
  },
  {
   "cell_type": "code",
   "execution_count": 83,
   "metadata": {},
   "outputs": [
    {
     "data": {
      "text/plain": [
       "[]"
      ]
     },
     "execution_count": 83,
     "metadata": {},
     "output_type": "execute_result"
    }
   ],
   "source": [
    "solve(eq, x)"
   ]
  },
  {
   "cell_type": "code",
   "execution_count": null,
   "metadata": {},
   "outputs": [],
   "source": []
  }
 ],
 "metadata": {
  "kernelspec": {
   "display_name": "SageMath 9.1",
   "language": "sage",
   "name": "sagemath"
  },
  "language_info": {
   "codemirror_mode": {
    "name": "ipython",
    "version": 3
   },
   "file_extension": ".py",
   "mimetype": "text/x-python",
   "name": "python",
   "nbconvert_exporter": "python",
   "pygments_lexer": "ipython3",
   "version": "3.8.3"
  }
 },
 "nbformat": 4,
 "nbformat_minor": 4
}
